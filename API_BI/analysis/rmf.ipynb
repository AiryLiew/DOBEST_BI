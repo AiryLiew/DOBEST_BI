{
 "cells": [
  {
   "cell_type": "code",
   "execution_count": 298,
   "metadata": {},
   "outputs": [],
   "source": [
    "# -*- coding: utf-8 -*-\n",
    "# 测试环境: python3.9.6\n",
    "\n",
    "# *****************************************调库*************************************************#\n",
    "import pandas as pd\n",
    "\n",
    "from sqlalchemy import create_engine\n",
    "from datetime import datetime\n",
    "from matplotlib import pyplot as plt\n",
    "# 设置显示中文字体\n",
    "# 显示汉字\n",
    "plt.rc(\"font\",family='FangSong')\n",
    "\n",
    "\n",
    "# *****************************************连接取数*********************************************#\n",
    "engine  = create_engine(\"mysql+pymysql://{}:{}@{}:{}/{}\".format('root', '123456', 'localhost', '3306', 'erp_jd_dwd'))  \n",
    "engine1 = create_engine(\"mysql+pymysql://{}:{}@{}:{}/{}\".format('root', '123456', 'localhost', '3306', 'bi'))\n",
    "conn = create_engine(\"mssql+pymssql://{}:{}@{}:{}/{}\".format('sa', '123456', '10.242.21.1', '1433', 'bi'))\n",
    "\n",
    "df_sales = pd.read_sql_query('select * from erp_jd_dwd_dim_saleorders;', engine)\n",
    "\n",
    "df_sales = df_sales[(df_sales['bumen'] == '渠道')&(df_sales['danjulxmc'] != '年返销售订单')]\n",
    "\n",
    "# 去除内部订单\n",
    "list_ = ['杭州游卡文化创意有限公司','上海飞之火电竞信息科技有限公司','杭州泳淳网络技术有限公司','杭州迷思文化创意有限公司','杭州迷思文化创意有限公司-西西弗']\n",
    "df_sales = df_sales[~df_sales['kehumc'].isin(list_)]\n",
    "data = df_sales[['kehumc','riqi','xiaoshousl','jiashuihj']]"
   ]
  },
  {
   "cell_type": "markdown",
   "metadata": {},
   "source": [
    "1）R（Recency）：最近一次消费时间间隔，指用户最近一次消费时间距离现在的时间间隔；\n",
    "\n",
    "2）F（Frequency）：消费频率，指用户一段时间内消费了多少次；\n",
    "\n",
    "3）M（Monetary）：消费金额，指用户一段时间内的消费金额。"
   ]
  },
  {
   "cell_type": "code",
   "execution_count": 299,
   "metadata": {},
   "outputs": [],
   "source": [
    "data.reset_index(drop=True,inplace=True)\n",
    "data.reset_index(inplace=True)"
   ]
  },
  {
   "cell_type": "code",
   "execution_count": 300,
   "metadata": {},
   "outputs": [],
   "source": [
    "column_name = 'xiaoshousl'\n",
    "column_name1 = '总销量'"
   ]
  },
  {
   "cell_type": "code",
   "execution_count": 301,
   "metadata": {},
   "outputs": [
    {
     "name": "stdout",
     "output_type": "stream",
     "text": [
      "              index    xiaoshousl      jiashuihj\n",
      "count  93017.000000  93017.000000   93017.000000\n",
      "mean   46508.000000    116.743251    1228.649235\n",
      "std    26851.839332    531.965866    4533.881182\n",
      "min        0.000000      1.000000       0.000000\n",
      "25%    23254.000000     20.000000     200.000000\n",
      "50%    46508.000000     40.000000     342.000000\n",
      "75%    69762.000000     80.000000     720.000000\n",
      "max    93016.000000  86400.000000  289800.000000\n"
     ]
    }
   ],
   "source": [
    "# 查看数据描述性统计的信息\n",
    "print(data.describe())\n",
    "\n",
    "# 按【订单号】和【用户 ID】分组后，获取【发货日期】列的最大值和【总金额】列的总和\n",
    "grouped_data = data.groupby(['index','kehumc'], as_index=False).agg({'riqi': 'max', column_name: 'sum'})\n",
    "# 计算时间间隔  \n",
    "today = datetime.now()\n",
    "grouped_data['时间间隔'] = (pd.to_datetime(today) - pd.to_datetime(grouped_data['riqi'])).dt.days"
   ]
  },
  {
   "cell_type": "code",
   "execution_count": 302,
   "metadata": {},
   "outputs": [
    {
     "data": {
      "text/html": [
       "<div>\n",
       "<style scoped>\n",
       "    .dataframe tbody tr th:only-of-type {\n",
       "        vertical-align: middle;\n",
       "    }\n",
       "\n",
       "    .dataframe tbody tr th {\n",
       "        vertical-align: top;\n",
       "    }\n",
       "\n",
       "    .dataframe thead th {\n",
       "        text-align: right;\n",
       "    }\n",
       "</style>\n",
       "<table border=\"1\" class=\"dataframe\">\n",
       "  <thead>\n",
       "    <tr style=\"text-align: right;\">\n",
       "      <th></th>\n",
       "      <th>客户</th>\n",
       "      <th>时间间隔</th>\n",
       "      <th>总次数</th>\n",
       "      <th>总销量</th>\n",
       "    </tr>\n",
       "  </thead>\n",
       "  <tbody>\n",
       "    <tr>\n",
       "      <th>0</th>\n",
       "      <td>一二三三国际贸易（福建）有限公司</td>\n",
       "      <td>1</td>\n",
       "      <td>233</td>\n",
       "      <td>59236.0</td>\n",
       "    </tr>\n",
       "    <tr>\n",
       "      <th>1</th>\n",
       "      <td>七彩动漫玩具商行</td>\n",
       "      <td>15</td>\n",
       "      <td>90</td>\n",
       "      <td>4911.0</td>\n",
       "    </tr>\n",
       "    <tr>\n",
       "      <th>2</th>\n",
       "      <td>三亚富嘉文具用品有限公司</td>\n",
       "      <td>78</td>\n",
       "      <td>143</td>\n",
       "      <td>4517.0</td>\n",
       "    </tr>\n",
       "    <tr>\n",
       "      <th>3</th>\n",
       "      <td>三河市首鼎体育用品销售有限公司</td>\n",
       "      <td>49</td>\n",
       "      <td>120</td>\n",
       "      <td>7776.0</td>\n",
       "    </tr>\n",
       "    <tr>\n",
       "      <th>4</th>\n",
       "      <td>上书房（廊坊）文化传播有限公司</td>\n",
       "      <td>124</td>\n",
       "      <td>35</td>\n",
       "      <td>151.0</td>\n",
       "    </tr>\n",
       "    <tr>\n",
       "      <th>...</th>\n",
       "      <td>...</td>\n",
       "      <td>...</td>\n",
       "      <td>...</td>\n",
       "      <td>...</td>\n",
       "    </tr>\n",
       "    <tr>\n",
       "      <th>811</th>\n",
       "      <td>鹤城区小宝贝玩具批发部</td>\n",
       "      <td>581</td>\n",
       "      <td>18</td>\n",
       "      <td>830.0</td>\n",
       "    </tr>\n",
       "    <tr>\n",
       "      <th>812</th>\n",
       "      <td>黄文平</td>\n",
       "      <td>67</td>\n",
       "      <td>121</td>\n",
       "      <td>6141.0</td>\n",
       "    </tr>\n",
       "    <tr>\n",
       "      <th>813</th>\n",
       "      <td>黄若惜</td>\n",
       "      <td>193</td>\n",
       "      <td>22</td>\n",
       "      <td>880.0</td>\n",
       "    </tr>\n",
       "    <tr>\n",
       "      <th>814</th>\n",
       "      <td>黑龙江鑫颐源商贸有限公司</td>\n",
       "      <td>410</td>\n",
       "      <td>62</td>\n",
       "      <td>747.0</td>\n",
       "    </tr>\n",
       "    <tr>\n",
       "      <th>815</th>\n",
       "      <td>黟县织梦者文具用品店</td>\n",
       "      <td>909</td>\n",
       "      <td>7</td>\n",
       "      <td>291.0</td>\n",
       "    </tr>\n",
       "  </tbody>\n",
       "</table>\n",
       "<p>816 rows × 4 columns</p>\n",
       "</div>"
      ],
      "text/plain": [
       "                   客户  时间间隔  总次数      总销量\n",
       "0    一二三三国际贸易（福建）有限公司     1  233  59236.0\n",
       "1            七彩动漫玩具商行    15   90   4911.0\n",
       "2        三亚富嘉文具用品有限公司    78  143   4517.0\n",
       "3     三河市首鼎体育用品销售有限公司    49  120   7776.0\n",
       "4     上书房（廊坊）文化传播有限公司   124   35    151.0\n",
       "..                ...   ...  ...      ...\n",
       "811       鹤城区小宝贝玩具批发部   581   18    830.0\n",
       "812               黄文平    67  121   6141.0\n",
       "813               黄若惜   193   22    880.0\n",
       "814      黑龙江鑫颐源商贸有限公司   410   62    747.0\n",
       "815        黟县织梦者文具用品店   909    7    291.0\n",
       "\n",
       "[816 rows x 4 columns]"
      ]
     },
     "execution_count": 302,
     "metadata": {},
     "output_type": "execute_result"
    }
   ],
   "source": [
    "# 按【用户 ID】分组后，获取【时间间隔】列的最小值、【订单号】列的数量，以及【总金额】列的总和\n",
    "rfm_data = grouped_data.groupby('kehumc', as_index=False).agg({'时间间隔': 'min', 'index': 'count', column_name: 'sum'})\n",
    "# 修改列名\n",
    "rfm_data.columns = ['客户', '时间间隔', '总次数', column_name1]\n",
    "rfm_data"
   ]
  },
  {
   "cell_type": "code",
   "execution_count": 303,
   "metadata": {},
   "outputs": [
    {
     "data": {
      "text/plain": [
       "[<matplotlib.lines.Line2D at 0x1f48eb3e440>]"
      ]
     },
     "execution_count": 303,
     "metadata": {},
     "output_type": "execute_result"
    },
    {
     "data": {
      "image/png": "[encoded data removed]",
      "text/plain": [
       "<Figure size 1872x576 with 1 Axes>"
      ]
     },
     "metadata": {
      "needs_background": "light"
     },
     "output_type": "display_data"
    }
   ],
   "source": [
    "# 画 R 值（时间间隔）的折线图，便于后续对数据进行分组\n",
    "plt.figure(figsize=(26, 8))\n",
    "x = rfm_data['时间间隔'].sort_values()\n",
    "y = rfm_data.index\n",
    "plt.plot(x, y)"
   ]
  },
  {
   "cell_type": "code",
   "execution_count": 304,
   "metadata": {},
   "outputs": [],
   "source": [
    "# 定义函数按照区间划分 R 值\n",
    "def caculate_r(s):\n",
    "    if s <= 30:\n",
    "        return 5\n",
    "    elif s <= 60:\n",
    "        return 4\n",
    "    elif s <= 180:\n",
    "        return 3\n",
    "    elif s <= 365:\n",
    "        return 2\n",
    "    else:\n",
    "        return 1"
   ]
  },
  {
   "cell_type": "code",
   "execution_count": 305,
   "metadata": {},
   "outputs": [
    {
     "data": {
      "text/html": [
       "<div>\n",
       "<style scoped>\n",
       "    .dataframe tbody tr th:only-of-type {\n",
       "        vertical-align: middle;\n",
       "    }\n",
       "\n",
       "    .dataframe tbody tr th {\n",
       "        vertical-align: top;\n",
       "    }\n",
       "\n",
       "    .dataframe thead th {\n",
       "        text-align: right;\n",
       "    }\n",
       "</style>\n",
       "<table border=\"1\" class=\"dataframe\">\n",
       "  <thead>\n",
       "    <tr style=\"text-align: right;\">\n",
       "      <th></th>\n",
       "      <th>客户</th>\n",
       "      <th>时间间隔</th>\n",
       "      <th>总次数</th>\n",
       "      <th>总销量</th>\n",
       "      <th>R评分</th>\n",
       "    </tr>\n",
       "  </thead>\n",
       "  <tbody>\n",
       "    <tr>\n",
       "      <th>0</th>\n",
       "      <td>一二三三国际贸易（福建）有限公司</td>\n",
       "      <td>1</td>\n",
       "      <td>233</td>\n",
       "      <td>59236.0</td>\n",
       "      <td>5</td>\n",
       "    </tr>\n",
       "    <tr>\n",
       "      <th>1</th>\n",
       "      <td>七彩动漫玩具商行</td>\n",
       "      <td>15</td>\n",
       "      <td>90</td>\n",
       "      <td>4911.0</td>\n",
       "      <td>5</td>\n",
       "    </tr>\n",
       "    <tr>\n",
       "      <th>2</th>\n",
       "      <td>三亚富嘉文具用品有限公司</td>\n",
       "      <td>78</td>\n",
       "      <td>143</td>\n",
       "      <td>4517.0</td>\n",
       "      <td>3</td>\n",
       "    </tr>\n",
       "    <tr>\n",
       "      <th>3</th>\n",
       "      <td>三河市首鼎体育用品销售有限公司</td>\n",
       "      <td>49</td>\n",
       "      <td>120</td>\n",
       "      <td>7776.0</td>\n",
       "      <td>4</td>\n",
       "    </tr>\n",
       "    <tr>\n",
       "      <th>4</th>\n",
       "      <td>上书房（廊坊）文化传播有限公司</td>\n",
       "      <td>124</td>\n",
       "      <td>35</td>\n",
       "      <td>151.0</td>\n",
       "      <td>3</td>\n",
       "    </tr>\n",
       "    <tr>\n",
       "      <th>...</th>\n",
       "      <td>...</td>\n",
       "      <td>...</td>\n",
       "      <td>...</td>\n",
       "      <td>...</td>\n",
       "      <td>...</td>\n",
       "    </tr>\n",
       "    <tr>\n",
       "      <th>811</th>\n",
       "      <td>鹤城区小宝贝玩具批发部</td>\n",
       "      <td>581</td>\n",
       "      <td>18</td>\n",
       "      <td>830.0</td>\n",
       "      <td>1</td>\n",
       "    </tr>\n",
       "    <tr>\n",
       "      <th>812</th>\n",
       "      <td>黄文平</td>\n",
       "      <td>67</td>\n",
       "      <td>121</td>\n",
       "      <td>6141.0</td>\n",
       "      <td>3</td>\n",
       "    </tr>\n",
       "    <tr>\n",
       "      <th>813</th>\n",
       "      <td>黄若惜</td>\n",
       "      <td>193</td>\n",
       "      <td>22</td>\n",
       "      <td>880.0</td>\n",
       "      <td>2</td>\n",
       "    </tr>\n",
       "    <tr>\n",
       "      <th>814</th>\n",
       "      <td>黑龙江鑫颐源商贸有限公司</td>\n",
       "      <td>410</td>\n",
       "      <td>62</td>\n",
       "      <td>747.0</td>\n",
       "      <td>1</td>\n",
       "    </tr>\n",
       "    <tr>\n",
       "      <th>815</th>\n",
       "      <td>黟县织梦者文具用品店</td>\n",
       "      <td>909</td>\n",
       "      <td>7</td>\n",
       "      <td>291.0</td>\n",
       "      <td>1</td>\n",
       "    </tr>\n",
       "  </tbody>\n",
       "</table>\n",
       "<p>816 rows × 5 columns</p>\n",
       "</div>"
      ],
      "text/plain": [
       "                   客户  时间间隔  总次数      总销量  R评分\n",
       "0    一二三三国际贸易（福建）有限公司     1  233  59236.0    5\n",
       "1            七彩动漫玩具商行    15   90   4911.0    5\n",
       "2        三亚富嘉文具用品有限公司    78  143   4517.0    3\n",
       "3     三河市首鼎体育用品销售有限公司    49  120   7776.0    4\n",
       "4     上书房（廊坊）文化传播有限公司   124   35    151.0    3\n",
       "..                ...   ...  ...      ...  ...\n",
       "811       鹤城区小宝贝玩具批发部   581   18    830.0    1\n",
       "812               黄文平    67  121   6141.0    3\n",
       "813               黄若惜   193   22    880.0    2\n",
       "814      黑龙江鑫颐源商贸有限公司   410   62    747.0    1\n",
       "815        黟县织梦者文具用品店   909    7    291.0    1\n",
       "\n",
       "[816 rows x 5 columns]"
      ]
     },
     "execution_count": 305,
     "metadata": {},
     "output_type": "execute_result"
    }
   ],
   "source": [
    "# 对 R 值进行评分\n",
    "rfm_data['R评分'] = rfm_data['时间间隔'].agg(caculate_r)\n",
    "rfm_data"
   ]
  },
  {
   "cell_type": "code",
   "execution_count": 306,
   "metadata": {},
   "outputs": [
    {
     "data": {
      "text/plain": [
       "[<matplotlib.lines.Line2D at 0x1f4ee135ae0>]"
      ]
     },
     "execution_count": 306,
     "metadata": {},
     "output_type": "execute_result"
    },
    {
     "data": {
      "image/png": "[encoded data removed]",
      "text/plain": [
       "<Figure size 1872x576 with 1 Axes>"
      ]
     },
     "metadata": {
      "needs_background": "light"
     },
     "output_type": "display_data"
    }
   ],
   "source": [
    "# 画 F 值（总次数）的折线图，便于后续对数据进行分组\n",
    "plt.figure(figsize=(26, 8))\n",
    "x = rfm_data['总次数'].sort_values()\n",
    "y = rfm_data.index\n",
    "plt.plot(x, y)"
   ]
  },
  {
   "cell_type": "code",
   "execution_count": 307,
   "metadata": {},
   "outputs": [],
   "source": [
    "# 定义函数按照区间划分 F 值\n",
    "def caculate_f(s):\n",
    "    if s <= 90:\n",
    "        return 1\n",
    "    elif s <= 260:\n",
    "        return 2\n",
    "    elif s <= 430:\n",
    "        return 3\n",
    "    elif s <= 600:\n",
    "        return 4\n",
    "    else:\n",
    "        return 5"
   ]
  },
  {
   "cell_type": "code",
   "execution_count": 308,
   "metadata": {},
   "outputs": [
    {
     "data": {
      "text/html": [
       "<div>\n",
       "<style scoped>\n",
       "    .dataframe tbody tr th:only-of-type {\n",
       "        vertical-align: middle;\n",
       "    }\n",
       "\n",
       "    .dataframe tbody tr th {\n",
       "        vertical-align: top;\n",
       "    }\n",
       "\n",
       "    .dataframe thead th {\n",
       "        text-align: right;\n",
       "    }\n",
       "</style>\n",
       "<table border=\"1\" class=\"dataframe\">\n",
       "  <thead>\n",
       "    <tr style=\"text-align: right;\">\n",
       "      <th></th>\n",
       "      <th>客户</th>\n",
       "      <th>时间间隔</th>\n",
       "      <th>总次数</th>\n",
       "      <th>总销量</th>\n",
       "      <th>R评分</th>\n",
       "      <th>F评分</th>\n",
       "    </tr>\n",
       "  </thead>\n",
       "  <tbody>\n",
       "    <tr>\n",
       "      <th>0</th>\n",
       "      <td>一二三三国际贸易（福建）有限公司</td>\n",
       "      <td>1</td>\n",
       "      <td>233</td>\n",
       "      <td>59236.0</td>\n",
       "      <td>5</td>\n",
       "      <td>2</td>\n",
       "    </tr>\n",
       "    <tr>\n",
       "      <th>1</th>\n",
       "      <td>七彩动漫玩具商行</td>\n",
       "      <td>15</td>\n",
       "      <td>90</td>\n",
       "      <td>4911.0</td>\n",
       "      <td>5</td>\n",
       "      <td>1</td>\n",
       "    </tr>\n",
       "    <tr>\n",
       "      <th>2</th>\n",
       "      <td>三亚富嘉文具用品有限公司</td>\n",
       "      <td>78</td>\n",
       "      <td>143</td>\n",
       "      <td>4517.0</td>\n",
       "      <td>3</td>\n",
       "      <td>2</td>\n",
       "    </tr>\n",
       "    <tr>\n",
       "      <th>3</th>\n",
       "      <td>三河市首鼎体育用品销售有限公司</td>\n",
       "      <td>49</td>\n",
       "      <td>120</td>\n",
       "      <td>7776.0</td>\n",
       "      <td>4</td>\n",
       "      <td>2</td>\n",
       "    </tr>\n",
       "    <tr>\n",
       "      <th>4</th>\n",
       "      <td>上书房（廊坊）文化传播有限公司</td>\n",
       "      <td>124</td>\n",
       "      <td>35</td>\n",
       "      <td>151.0</td>\n",
       "      <td>3</td>\n",
       "      <td>1</td>\n",
       "    </tr>\n",
       "    <tr>\n",
       "      <th>...</th>\n",
       "      <td>...</td>\n",
       "      <td>...</td>\n",
       "      <td>...</td>\n",
       "      <td>...</td>\n",
       "      <td>...</td>\n",
       "      <td>...</td>\n",
       "    </tr>\n",
       "    <tr>\n",
       "      <th>811</th>\n",
       "      <td>鹤城区小宝贝玩具批发部</td>\n",
       "      <td>581</td>\n",
       "      <td>18</td>\n",
       "      <td>830.0</td>\n",
       "      <td>1</td>\n",
       "      <td>1</td>\n",
       "    </tr>\n",
       "    <tr>\n",
       "      <th>812</th>\n",
       "      <td>黄文平</td>\n",
       "      <td>67</td>\n",
       "      <td>121</td>\n",
       "      <td>6141.0</td>\n",
       "      <td>3</td>\n",
       "      <td>2</td>\n",
       "    </tr>\n",
       "    <tr>\n",
       "      <th>813</th>\n",
       "      <td>黄若惜</td>\n",
       "      <td>193</td>\n",
       "      <td>22</td>\n",
       "      <td>880.0</td>\n",
       "      <td>2</td>\n",
       "      <td>1</td>\n",
       "    </tr>\n",
       "    <tr>\n",
       "      <th>814</th>\n",
       "      <td>黑龙江鑫颐源商贸有限公司</td>\n",
       "      <td>410</td>\n",
       "      <td>62</td>\n",
       "      <td>747.0</td>\n",
       "      <td>1</td>\n",
       "      <td>1</td>\n",
       "    </tr>\n",
       "    <tr>\n",
       "      <th>815</th>\n",
       "      <td>黟县织梦者文具用品店</td>\n",
       "      <td>909</td>\n",
       "      <td>7</td>\n",
       "      <td>291.0</td>\n",
       "      <td>1</td>\n",
       "      <td>1</td>\n",
       "    </tr>\n",
       "  </tbody>\n",
       "</table>\n",
       "<p>816 rows × 6 columns</p>\n",
       "</div>"
      ],
      "text/plain": [
       "                   客户  时间间隔  总次数      总销量  R评分  F评分\n",
       "0    一二三三国际贸易（福建）有限公司     1  233  59236.0    5    2\n",
       "1            七彩动漫玩具商行    15   90   4911.0    5    1\n",
       "2        三亚富嘉文具用品有限公司    78  143   4517.0    3    2\n",
       "3     三河市首鼎体育用品销售有限公司    49  120   7776.0    4    2\n",
       "4     上书房（廊坊）文化传播有限公司   124   35    151.0    3    1\n",
       "..                ...   ...  ...      ...  ...  ...\n",
       "811       鹤城区小宝贝玩具批发部   581   18    830.0    1    1\n",
       "812               黄文平    67  121   6141.0    3    2\n",
       "813               黄若惜   193   22    880.0    2    1\n",
       "814      黑龙江鑫颐源商贸有限公司   410   62    747.0    1    1\n",
       "815        黟县织梦者文具用品店   909    7    291.0    1    1\n",
       "\n",
       "[816 rows x 6 columns]"
      ]
     },
     "execution_count": 308,
     "metadata": {},
     "output_type": "execute_result"
    }
   ],
   "source": [
    "# 对 F 值进行评分\n",
    "rfm_data['F评分'] = rfm_data['总次数'].agg(caculate_f)\n",
    "rfm_data"
   ]
  },
  {
   "cell_type": "code",
   "execution_count": 309,
   "metadata": {},
   "outputs": [
    {
     "data": {
      "text/plain": [
       "[<matplotlib.lines.Line2D at 0x1f4ff41e6e0>]"
      ]
     },
     "execution_count": 309,
     "metadata": {},
     "output_type": "execute_result"
    },
    {
     "data": {
      "image/png": "[encoded data removed]",
      "text/plain": [
       "<Figure size 1872x576 with 1 Axes>"
      ]
     },
     "metadata": {
      "needs_background": "light"
     },
     "output_type": "display_data"
    }
   ],
   "source": [
    "# 画 M 值（总金额）的折线图，便于后续对数据进行分组\n",
    "plt.figure(figsize=(26, 8))\n",
    "x = rfm_data[column_name1].sort_values()\n",
    "y = rfm_data.index\n",
    "plt.plot(x, y)"
   ]
  },
  {
   "cell_type": "code",
   "execution_count": 310,
   "metadata": {},
   "outputs": [],
   "source": [
    "# 定义函数按照区间划分 M 值\n",
    "def caculate_m(s):\n",
    "    if s <= 2000:\n",
    "        return 1\n",
    "    elif s <= 5000:\n",
    "        return 2\n",
    "    elif s <= 8000:\n",
    "        return 3\n",
    "    elif s <= 15000:\n",
    "        return 4\n",
    "    else:\n",
    "        return 5"
   ]
  },
  {
   "cell_type": "code",
   "execution_count": 311,
   "metadata": {},
   "outputs": [
    {
     "name": "stdout",
     "output_type": "stream",
     "text": [
      "R评分的均值为：2.8566176470588234，F评分的均值为1.4803921568627452,M评分的均值为2.079656862745098\n"
     ]
    }
   ],
   "source": [
    "# 对 M 值进行评分\n",
    "rfm_data['M评分'] = rfm_data[column_name1].agg(caculate_m)\n",
    "# 计算 R评分、F评分、M评分的平均数\n",
    "r_avg = rfm_data['R评分'].mean()\n",
    "f_avg = rfm_data['F评分'].mean()\n",
    "m_avg = rfm_data['M评分'].mean()\n",
    "\n",
    "print('R评分的均值为：{}，F评分的均值为{},M评分的均值为{}'.format(r_avg, f_avg, m_avg))"
   ]
  },
  {
   "cell_type": "code",
   "execution_count": 312,
   "metadata": {},
   "outputs": [],
   "source": [
    "# 将R评分、F评分、M评分 的数据分别与对应的平均数做比较\n",
    "rfm_data['R向量化'] = (rfm_data['R评分'] > r_avg) * 1\n",
    "rfm_data['F向量化'] = (rfm_data['F评分'] > f_avg) * 1\n",
    "rfm_data['M向量化'] = (rfm_data['M评分'] > m_avg) * 1\n",
    "# 拼接R评分、F评分、M评分\n",
    "rfm_score = rfm_data['R向量化'].astype(str) + rfm_data['F向量化'].astype(str) + rfm_data['M向量化'].astype(str)"
   ]
  },
  {
   "cell_type": "code",
   "execution_count": 313,
   "metadata": {},
   "outputs": [],
   "source": [
    "# 定义字典标记 RFM 评分档对应的用户分类名称\n",
    "transform_label = {\n",
    "    '111':'重要价值用户',\n",
    "    '101':'重要发展用户',\n",
    "    '011':'重要保持用户',\n",
    "    '001':'重要挽留用户',\n",
    "    '110':'一般价值用户',\n",
    "    '100':'一般发展用户',\n",
    "    '010':'一般保持用户',\n",
    "    '000':'一般挽留用户'\n",
    "}\n",
    "\n",
    "level_label = {\n",
    "    '重要价值用户':'A',\n",
    "    '重要发展用户':'A',\n",
    "    '重要保持用户':'B',\n",
    "    '重要挽留用户':'B',\n",
    "    '一般价值用户':'B',\n",
    "    '一般发展用户':'B',\n",
    "    '一般保持用户':'C',\n",
    "    '一般挽留用户':'C'\n",
    "}"
   ]
  },
  {
   "cell_type": "code",
   "execution_count": 314,
   "metadata": {},
   "outputs": [
    {
     "data": {
      "text/plain": [
       "客户类型\n",
       "一般价值用户     53\n",
       "一般保持用户     12\n",
       "一般发展用户    218\n",
       "一般挽留用户    312\n",
       "重要价值用户    163\n",
       "重要保持用户     15\n",
       "重要发展用户     24\n",
       "重要挽留用户     19\n",
       "Name: 客户, dtype: int64"
      ]
     },
     "execution_count": 314,
     "metadata": {},
     "output_type": "execute_result"
    }
   ],
   "source": [
    "# 将RFM评分替换成具体的客户类型\n",
    "rfm_data['客户类型'] = rfm_score.replace(transform_label)\n",
    "rfm_data['客户分级'] = rfm_data['客户类型'].replace(level_label)\n",
    "# 按【客户类型】分组，统计用户的数量\n",
    "customer_data = rfm_data.groupby('客户类型')['客户'].count()\n",
    "customer_data"
   ]
  },
  {
   "cell_type": "code",
   "execution_count": 315,
   "metadata": {},
   "outputs": [
    {
     "data": {
      "text/plain": [
       "Text(0.5, 1.0, '不同客户的数量分布')"
      ]
     },
     "execution_count": 315,
     "metadata": {},
     "output_type": "execute_result"
    },
    {
     "data": {
      "image/png": "[encoded data removed]",
      "text/plain": [
       "<Figure size 864x576 with 1 Axes>"
      ]
     },
     "metadata": {
      "needs_background": "light"
     },
     "output_type": "display_data"
    }
   ],
   "source": [
    "# 绘制柱状图\n",
    "plt.figure(figsize=(12, 8))\n",
    "plt.bar(customer_data.index, customer_data)\n",
    "plt.xlabel('客户类型', fontsize=12)\n",
    "plt.ylabel('人数', fontsize=12)\n",
    "plt.title('不同客户的数量分布', fontsize=16)"
   ]
  },
  {
   "cell_type": "code",
   "execution_count": 316,
   "metadata": {},
   "outputs": [
    {
     "data": {
      "text/plain": [
       "Text(0.5, 1.0, '不同客户占比情况')"
      ]
     },
     "execution_count": 316,
     "metadata": {},
     "output_type": "execute_result"
    },
    {
     "data": {
      "image/png": "[encoded data removed]",
      "text/plain": [
       "<Figure size 1008x720 with 1 Axes>"
      ]
     },
     "metadata": {},
     "output_type": "display_data"
    }
   ],
   "source": [
    "# 绘制饼图\n",
    "plt.figure(figsize=(14, 10))\n",
    "plt.pie(customer_data, labels=customer_data.index, autopct='%0.1f%%')\n",
    "plt.title('不同客户占比情况', fontsize=16)"
   ]
  },
  {
   "cell_type": "code",
   "execution_count": 317,
   "metadata": {},
   "outputs": [],
   "source": [
    "# *****************************************写入数据库*******************************************#\n",
    "rfm_data.to_sql('bi_rfm', engine1, schema='bi', if_exists='replace', index=False)\n",
    "engine.dispose()\n",
    "engine1.dispose()\n",
    "\n",
    "rfm_data.to_sql(name='bi_rfm', con=conn, if_exists='replace', index=False)\n",
    "conn.dispose() "
   ]
  }
 ],
 "metadata": {
  "interpreter": {
   "hash": "c569cd2e17f62341e0f08a54f9a867c3c0d3a6f67454072d7de41a8b5dff8343"
  },
  "kernelspec": {
   "display_name": "Python 3.9.1 64-bit",
   "name": "python3"
  },
  "language_info": {
   "codemirror_mode": {
    "name": "ipython",
    "version": 3
   },
   "file_extension": ".py",
   "mimetype": "text/x-python",
   "name": "python",
   "nbconvert_exporter": "python",
   "pygments_lexer": "ipython3",
   "version": "3.10.1"
  },
  "orig_nbformat": 4
 },
 "nbformat": 4,
 "nbformat_minor": 2
}
